{
  "nbformat": 4,
  "nbformat_minor": 0,
  "metadata": {
    "colab": {
      "name": "Untitled15.ipynb",
      "provenance": [],
      "authorship_tag": "ABX9TyPsJ5emPQENkqS9/SHfn1bf",
      "include_colab_link": true
    },
    "kernelspec": {
      "name": "python3",
      "display_name": "Python 3"
    }
  },
  "cells": [
    {
      "cell_type": "markdown",
      "metadata": {
        "id": "view-in-github",
        "colab_type": "text"
      },
      "source": [
        "<a href=\"https://colab.research.google.com/github/Shreyas3108/Decoder_2ndMay/blob/master/3rdMay.ipynb\" target=\"_parent\"><img src=\"https://colab.research.google.com/assets/colab-badge.svg\" alt=\"Open In Colab\"/></a>"
      ]
    },
    {
      "cell_type": "markdown",
      "metadata": {
        "id": "p4ebOGUb0py6",
        "colab_type": "text"
      },
      "source": [
        "## Decodr 02 May 2020 \n",
        "\n",
        "This is a demo notebook for the weekend batch"
      ]
    },
    {
      "cell_type": "markdown",
      "metadata": {
        "id": "8nEcQwVR9ttG",
        "colab_type": "text"
      },
      "source": [
        "### Python \n",
        "\n",
        "1. It handles the data types\n",
        "2. Variable initialization, Does not really need a type specification "
      ]
    },
    {
      "cell_type": "code",
      "metadata": {
        "id": "23WXHb_W9s7W",
        "colab_type": "code",
        "colab": {}
      },
      "source": [
        "a = 5"
      ],
      "execution_count": 0,
      "outputs": []
    },
    {
      "cell_type": "code",
      "metadata": {
        "id": "M5Zv1QNfzdn4",
        "colab_type": "code",
        "colab": {
          "base_uri": "https://localhost:8080/",
          "height": 35
        },
        "outputId": "908cad17-a310-48a9-a8a6-d2b067c2856f"
      },
      "source": [
        "type(a)"
      ],
      "execution_count": 2,
      "outputs": [
        {
          "output_type": "execute_result",
          "data": {
            "text/plain": [
              "int"
            ]
          },
          "metadata": {
            "tags": []
          },
          "execution_count": 2
        }
      ]
    },
    {
      "cell_type": "code",
      "metadata": {
        "id": "DuJei_dG9qv-",
        "colab_type": "code",
        "colab": {
          "base_uri": "https://localhost:8080/",
          "height": 35
        },
        "outputId": "040e87a1-b7fc-4081-b21b-a68dceef7917"
      },
      "source": [
        "b = 5.0 \n",
        "type(b)"
      ],
      "execution_count": 3,
      "outputs": [
        {
          "output_type": "execute_result",
          "data": {
            "text/plain": [
              "float"
            ]
          },
          "metadata": {
            "tags": []
          },
          "execution_count": 3
        }
      ]
    },
    {
      "cell_type": "code",
      "metadata": {
        "id": "9WRiX8O_963i",
        "colab_type": "code",
        "colab": {
          "base_uri": "https://localhost:8080/",
          "height": 35
        },
        "outputId": "bd299b0a-9c99-4e84-f511-a8bb68996f8a"
      },
      "source": [
        "c = 'a'\n",
        "type(c)"
      ],
      "execution_count": 4,
      "outputs": [
        {
          "output_type": "execute_result",
          "data": {
            "text/plain": [
              "str"
            ]
          },
          "metadata": {
            "tags": []
          },
          "execution_count": 4
        }
      ]
    },
    {
      "cell_type": "code",
      "metadata": {
        "id": "jJzubzMn-D18",
        "colab_type": "code",
        "colab": {
          "base_uri": "https://localhost:8080/",
          "height": 35
        },
        "outputId": "9cefb251-4d29-410e-b8a4-84ab1fd7c1ab"
      },
      "source": [
        "a = True \n",
        "type(a)"
      ],
      "execution_count": 5,
      "outputs": [
        {
          "output_type": "execute_result",
          "data": {
            "text/plain": [
              "bool"
            ]
          },
          "metadata": {
            "tags": []
          },
          "execution_count": 5
        }
      ]
    },
    {
      "cell_type": "code",
      "metadata": {
        "id": "bPyyBlFk-GXo",
        "colab_type": "code",
        "colab": {
          "base_uri": "https://localhost:8080/",
          "height": 35
        },
        "outputId": "22adc91f-605d-4cb2-819a-95e46a90c2ce"
      },
      "source": [
        "a = 'True'\n",
        "type(a)"
      ],
      "execution_count": 6,
      "outputs": [
        {
          "output_type": "execute_result",
          "data": {
            "text/plain": [
              "str"
            ]
          },
          "metadata": {
            "tags": []
          },
          "execution_count": 6
        }
      ]
    },
    {
      "cell_type": "code",
      "metadata": {
        "id": "6yNSqesF-TB7",
        "colab_type": "code",
        "colab": {
          "base_uri": "https://localhost:8080/",
          "height": 35
        },
        "outputId": "37645ae7-c289-4835-e4df-1e27abb472c3"
      },
      "source": [
        "a = 12\n",
        "b = 6.0\n",
        "c = a + b\n",
        "type(c)"
      ],
      "execution_count": 7,
      "outputs": [
        {
          "output_type": "execute_result",
          "data": {
            "text/plain": [
              "float"
            ]
          },
          "metadata": {
            "tags": []
          },
          "execution_count": 7
        }
      ]
    },
    {
      "cell_type": "code",
      "metadata": {
        "id": "MWRpG7Mx-g_2",
        "colab_type": "code",
        "colab": {
          "base_uri": "https://localhost:8080/",
          "height": 52
        },
        "outputId": "6c925521-2161-425d-d35e-003ff1b4c7c2"
      },
      "source": [
        "name = int(input('Enter the Name of the person'))\n",
        "name1 = input(\"Enter something \")"
      ],
      "execution_count": 8,
      "outputs": [
        {
          "output_type": "stream",
          "text": [
            "Enter the Name of the person2\n",
            "Enter something 3\n"
          ],
          "name": "stdout"
        }
      ]
    },
    {
      "cell_type": "code",
      "metadata": {
        "id": "R77AFXeM_GAd",
        "colab_type": "code",
        "colab": {
          "base_uri": "https://localhost:8080/",
          "height": 35
        },
        "outputId": "ec63b256-18e8-4c17-99d0-00ba549d08a0"
      },
      "source": [
        "name"
      ],
      "execution_count": 9,
      "outputs": [
        {
          "output_type": "execute_result",
          "data": {
            "text/plain": [
              "2"
            ]
          },
          "metadata": {
            "tags": []
          },
          "execution_count": 9
        }
      ]
    },
    {
      "cell_type": "code",
      "metadata": {
        "id": "ZBKHpiFM_hkn",
        "colab_type": "code",
        "colab": {
          "base_uri": "https://localhost:8080/",
          "height": 35
        },
        "outputId": "0dd93d41-ac05-4fb0-f499-c99dd1b1c6ed"
      },
      "source": [
        "name1"
      ],
      "execution_count": 10,
      "outputs": [
        {
          "output_type": "execute_result",
          "data": {
            "text/plain": [
              "'3'"
            ]
          },
          "metadata": {
            "tags": []
          },
          "execution_count": 10
        }
      ]
    },
    {
      "cell_type": "markdown",
      "metadata": {
        "id": "9iUU4WJZ1Efi",
        "colab_type": "text"
      },
      "source": [
        "Basic Operations in Python"
      ]
    },
    {
      "cell_type": "code",
      "metadata": {
        "id": "qs8NpcJk1EIh",
        "colab_type": "code",
        "colab": {}
      },
      "source": [
        "a = 3+5 \n",
        "b = 7-4.0 \n",
        "c = 3/4 \n",
        "d = 3*2\n",
        "e = 5**3 ## 5^2 ^ == ** "
      ],
      "execution_count": 0,
      "outputs": []
    },
    {
      "cell_type": "code",
      "metadata": {
        "id": "Ae1zWDyI0n_S",
        "colab_type": "code",
        "colab": {
          "base_uri": "https://localhost:8080/",
          "height": 35
        },
        "outputId": "eb3f00a2-dd29-4054-ce32-5f62b1693c95"
      },
      "source": [
        "if (a > 5):\n",
        "  print(\"From Bool , We got the output\")"
      ],
      "execution_count": 12,
      "outputs": [
        {
          "output_type": "stream",
          "text": [
            "From Bool , We got the output\n"
          ],
          "name": "stdout"
        }
      ]
    },
    {
      "cell_type": "markdown",
      "metadata": {
        "id": "mAkq9yrrBV0d",
        "colab_type": "text"
      },
      "source": [
        "### List\n",
        "\n",
        "Advantages of List over an Array : \n",
        "\n",
        "1. List is not type specific , can hold different data types \n",
        "2. Easier to extract elements \n",
        "3. No need to specify the size of the list , as you do in an array. "
      ]
    },
    {
      "cell_type": "code",
      "metadata": {
        "id": "ZcYjT1PtBVdZ",
        "colab_type": "code",
        "colab": {}
      },
      "source": [
        "b = ['1',1,1.0 , True , 'Last Element']"
      ],
      "execution_count": 0,
      "outputs": []
    },
    {
      "cell_type": "code",
      "metadata": {
        "id": "XSRrijS5AXzR",
        "colab_type": "code",
        "colab": {
          "base_uri": "https://localhost:8080/",
          "height": 35
        },
        "outputId": "ed641323-b40a-4108-fa74-fbc1e89a3e00"
      },
      "source": [
        "b[0]"
      ],
      "execution_count": 14,
      "outputs": [
        {
          "output_type": "execute_result",
          "data": {
            "text/plain": [
              "'1'"
            ]
          },
          "metadata": {
            "tags": []
          },
          "execution_count": 14
        }
      ]
    },
    {
      "cell_type": "code",
      "metadata": {
        "id": "AGbmjJ2qAtB-",
        "colab_type": "code",
        "colab": {
          "base_uri": "https://localhost:8080/",
          "height": 35
        },
        "outputId": "45529385-3a17-4dd9-ec26-7bf1cbd21d46"
      },
      "source": [
        "b[:3] # 0 ,1 ,2 "
      ],
      "execution_count": 15,
      "outputs": [
        {
          "output_type": "execute_result",
          "data": {
            "text/plain": [
              "['1', 1, 1.0]"
            ]
          },
          "metadata": {
            "tags": []
          },
          "execution_count": 15
        }
      ]
    },
    {
      "cell_type": "code",
      "metadata": {
        "id": "CMon1ZPcBK-I",
        "colab_type": "code",
        "colab": {
          "base_uri": "https://localhost:8080/",
          "height": 35
        },
        "outputId": "7d58cdf7-2b21-493b-c745-8edbab61b14f"
      },
      "source": [
        "b[-3]"
      ],
      "execution_count": 16,
      "outputs": [
        {
          "output_type": "execute_result",
          "data": {
            "text/plain": [
              "1.0"
            ]
          },
          "metadata": {
            "tags": []
          },
          "execution_count": 16
        }
      ]
    },
    {
      "cell_type": "markdown",
      "metadata": {
        "id": "wA5dMR-PD1PD",
        "colab_type": "text"
      },
      "source": [
        "list = l \n",
        "\n",
        "l[Start : End : Step] \n",
        "l[0:n+1: 1] "
      ]
    },
    {
      "cell_type": "code",
      "metadata": {
        "id": "pDCb7DDhC0Be",
        "colab_type": "code",
        "colab": {}
      },
      "source": [
        "b = [1,2,3,4,5,6]"
      ],
      "execution_count": 0,
      "outputs": []
    },
    {
      "cell_type": "code",
      "metadata": {
        "id": "GqhcQRZlDPCg",
        "colab_type": "code",
        "colab": {
          "base_uri": "https://localhost:8080/",
          "height": 35
        },
        "outputId": "43031e4a-57f0-414d-cb55-f95a00354f94"
      },
      "source": [
        "b[::1]"
      ],
      "execution_count": 18,
      "outputs": [
        {
          "output_type": "execute_result",
          "data": {
            "text/plain": [
              "[1, 2, 3, 4, 5, 6]"
            ]
          },
          "metadata": {
            "tags": []
          },
          "execution_count": 18
        }
      ]
    },
    {
      "cell_type": "code",
      "metadata": {
        "id": "-zPmdftDEJ7T",
        "colab_type": "code",
        "colab": {
          "base_uri": "https://localhost:8080/",
          "height": 35
        },
        "outputId": "674caef0-aee5-42ff-e378-97b8c3dda187"
      },
      "source": [
        "b[::2]"
      ],
      "execution_count": 19,
      "outputs": [
        {
          "output_type": "execute_result",
          "data": {
            "text/plain": [
              "[1, 3, 5]"
            ]
          },
          "metadata": {
            "tags": []
          },
          "execution_count": 19
        }
      ]
    },
    {
      "cell_type": "code",
      "metadata": {
        "id": "ZmKvCmSvEWLf",
        "colab_type": "code",
        "colab": {
          "base_uri": "https://localhost:8080/",
          "height": 35
        },
        "outputId": "2f5ac169-5e71-4ec3-ef4d-debab3d4a3d3"
      },
      "source": [
        "b[1:4:2]"
      ],
      "execution_count": 20,
      "outputs": [
        {
          "output_type": "execute_result",
          "data": {
            "text/plain": [
              "[2, 4]"
            ]
          },
          "metadata": {
            "tags": []
          },
          "execution_count": 20
        }
      ]
    },
    {
      "cell_type": "code",
      "metadata": {
        "id": "to3KjSWnEdQS",
        "colab_type": "code",
        "colab": {}
      },
      "source": [
        "matrix = [[1,2,3], ### Ayushi \n",
        "          [3,4,5], ### Suman \n",
        "          [5,6,7]] ### Vivek"
      ],
      "execution_count": 0,
      "outputs": []
    },
    {
      "cell_type": "code",
      "metadata": {
        "id": "HGGmEg0c5f7D",
        "colab_type": "code",
        "colab": {
          "base_uri": "https://localhost:8080/",
          "height": 35
        },
        "outputId": "829631ef-65e6-4cdc-d90b-b13f8474ec21"
      },
      "source": [
        "matrix[2][-1]"
      ],
      "execution_count": 24,
      "outputs": [
        {
          "output_type": "execute_result",
          "data": {
            "text/plain": [
              "7"
            ]
          },
          "metadata": {
            "tags": []
          },
          "execution_count": 24
        }
      ]
    },
    {
      "cell_type": "code",
      "metadata": {
        "id": "ymPKniRI5p9E",
        "colab_type": "code",
        "colab": {
          "base_uri": "https://localhost:8080/",
          "height": 35
        },
        "outputId": "0cfed00f-9886-4798-ba4a-8a51d25fc8a7"
      },
      "source": [
        "matrix[1][1]"
      ],
      "execution_count": 25,
      "outputs": [
        {
          "output_type": "execute_result",
          "data": {
            "text/plain": [
              "4"
            ]
          },
          "metadata": {
            "tags": []
          },
          "execution_count": 25
        }
      ]
    },
    {
      "cell_type": "code",
      "metadata": {
        "id": "o8tHhDJU5_je",
        "colab_type": "code",
        "colab": {
          "base_uri": "https://localhost:8080/",
          "height": 35
        },
        "outputId": "70d5a616-d780-4c0f-8e05-c4bcbd16b94a"
      },
      "source": [
        "matrix[-2][-2]"
      ],
      "execution_count": 26,
      "outputs": [
        {
          "output_type": "execute_result",
          "data": {
            "text/plain": [
              "4"
            ]
          },
          "metadata": {
            "tags": []
          },
          "execution_count": 26
        }
      ]
    },
    {
      "cell_type": "markdown",
      "metadata": {
        "id": "dUWEJWx56OtW",
        "colab_type": "text"
      },
      "source": [
        "### Dictionary \n",
        "\n",
        "l = [2,3,1] to access (2) -> l[0] or lets say 3 -> l[1]\n",
        "\n",
        "Dictionary :- \n",
        "\n",
        "1. They can be created by \" {} \" \n",
        "2. They always have a Key-value pair \n",
        "3. Key needs to be primitive data type (int , float , string or a bool) \n",
        "4. Values can be anything.  \n",
        "5. If there are two same keys then the latest value pair is taken into consideration \n",
        "\n",
        "{'Ayushi' : [12 , 15, 20] , 'Suman' : [11 , 14, 21]} "
      ]
    },
    {
      "cell_type": "code",
      "metadata": {
        "id": "PcbQ0hjc6B8_",
        "colab_type": "code",
        "colab": {}
      },
      "source": [
        "d1 = {'Ayushi':[12 , 15 , 20] , 'Suman':[11 , 18 , 19] , 'Vivek':[12 , 14 , 20] , 'Vivek':[10,11,12]}"
      ],
      "execution_count": 0,
      "outputs": []
    },
    {
      "cell_type": "code",
      "metadata": {
        "id": "1ggTZBgO7vz6",
        "colab_type": "code",
        "colab": {
          "base_uri": "https://localhost:8080/",
          "height": 35
        },
        "outputId": "2e821702-88bf-425d-dd4c-a281105ee83a"
      },
      "source": [
        "d1['Vivek']"
      ],
      "execution_count": 36,
      "outputs": [
        {
          "output_type": "execute_result",
          "data": {
            "text/plain": [
              "[10, 11, 12]"
            ]
          },
          "metadata": {
            "tags": []
          },
          "execution_count": 36
        }
      ]
    },
    {
      "cell_type": "code",
      "metadata": {
        "id": "FfYyIHIc7zo9",
        "colab_type": "code",
        "colab": {
          "base_uri": "https://localhost:8080/",
          "height": 35
        },
        "outputId": "dc183e26-f08b-4166-ea03-d57026ecd508"
      },
      "source": [
        "d1.keys()"
      ],
      "execution_count": 37,
      "outputs": [
        {
          "output_type": "execute_result",
          "data": {
            "text/plain": [
              "dict_keys(['Ayushi', 'Suman', 'Vivek'])"
            ]
          },
          "metadata": {
            "tags": []
          },
          "execution_count": 37
        }
      ]
    },
    {
      "cell_type": "code",
      "metadata": {
        "id": "QhfRdO_g8JPU",
        "colab_type": "code",
        "colab": {}
      },
      "source": [
        "d2 = {'Jai':12 , 'Ankesh':[12, 13 ,14] , 'Gantavya':True , 'Mahesh' : 'Somestring' , 12 : {'Key1':12 , 'key2':13}}"
      ],
      "execution_count": 0,
      "outputs": []
    },
    {
      "cell_type": "code",
      "metadata": {
        "id": "lkn_DQSc8g6_",
        "colab_type": "code",
        "colab": {}
      },
      "source": [
        "d2['VB'] = [13 , 14 ,11]"
      ],
      "execution_count": 0,
      "outputs": []
    },
    {
      "cell_type": "code",
      "metadata": {
        "id": "Kh6D5LVc9G5R",
        "colab_type": "code",
        "colab": {
          "base_uri": "https://localhost:8080/",
          "height": 35
        },
        "outputId": "5683b576-5718-4628-e495-6ab1f7cbf31b"
      },
      "source": [
        "d2[12]"
      ],
      "execution_count": 46,
      "outputs": [
        {
          "output_type": "execute_result",
          "data": {
            "text/plain": [
              "{'Key1': 12, 'key2': 13}"
            ]
          },
          "metadata": {
            "tags": []
          },
          "execution_count": 46
        }
      ]
    },
    {
      "cell_type": "code",
      "metadata": {
        "id": "OA_B8Cp59SKn",
        "colab_type": "code",
        "colab": {}
      },
      "source": [
        "d2['VB'].append(21)"
      ],
      "execution_count": 0,
      "outputs": []
    },
    {
      "cell_type": "code",
      "metadata": {
        "id": "NBnU-qlF9eVm",
        "colab_type": "code",
        "colab": {
          "base_uri": "https://localhost:8080/",
          "height": 121
        },
        "outputId": "d05cccaa-cb3f-4d82-a00e-4d3475427344"
      },
      "source": [
        "d2"
      ],
      "execution_count": 64,
      "outputs": [
        {
          "output_type": "execute_result",
          "data": {
            "text/plain": [
              "{12: {'Key1': 12, 'key2': 13},\n",
              " 'Ankesh': [12, 13, 14],\n",
              " 'Gantavya': True,\n",
              " 'Jai': 12,\n",
              " 'Mahesh': 'Somestring',\n",
              " 'VB': [13, 14, 11, 21]}"
            ]
          },
          "metadata": {
            "tags": []
          },
          "execution_count": 64
        }
      ]
    },
    {
      "cell_type": "code",
      "metadata": {
        "id": "oOJ2LAJl-vBG",
        "colab_type": "code",
        "colab": {
          "base_uri": "https://localhost:8080/",
          "height": 35
        },
        "outputId": "7388554b-96b0-48c9-a8d2-0b902fdd4ca6"
      },
      "source": [
        "d2.keys()"
      ],
      "execution_count": 63,
      "outputs": [
        {
          "output_type": "execute_result",
          "data": {
            "text/plain": [
              "dict_keys(['Jai', 'Ankesh', 'Gantavya', 'Mahesh', 12, 'VB'])"
            ]
          },
          "metadata": {
            "tags": []
          },
          "execution_count": 63
        }
      ]
    },
    {
      "cell_type": "code",
      "metadata": {
        "id": "TEXCfNis--ZB",
        "colab_type": "code",
        "colab": {
          "base_uri": "https://localhost:8080/",
          "height": 35
        },
        "outputId": "8859635d-1f16-4bd5-d8c6-4bfc1850af40"
      },
      "source": [
        "d2[12].keys()"
      ],
      "execution_count": 65,
      "outputs": [
        {
          "output_type": "execute_result",
          "data": {
            "text/plain": [
              "dict_keys(['Key1', 'key2'])"
            ]
          },
          "metadata": {
            "tags": []
          },
          "execution_count": 65
        }
      ]
    },
    {
      "cell_type": "markdown",
      "metadata": {
        "id": "3541yMO29pY0",
        "colab_type": "text"
      },
      "source": [
        "### Tuple \n",
        "\n",
        "1. It's similar to List. \n",
        "2. It's immutable (Cannot be altered) \n",
        "\n",
        "Is defined  by  '()' \n"
      ]
    },
    {
      "cell_type": "code",
      "metadata": {
        "id": "pHwqiHb39gid",
        "colab_type": "code",
        "colab": {}
      },
      "source": [
        "ltup = (1,2,3)\n",
        "llisst = [1,2,3]"
      ],
      "execution_count": 0,
      "outputs": []
    },
    {
      "cell_type": "code",
      "metadata": {
        "id": "UfviDrGB90k7",
        "colab_type": "code",
        "colab": {
          "base_uri": "https://localhost:8080/",
          "height": 35
        },
        "outputId": "f28ce314-e516-406c-e30d-e09e3cebd88a"
      },
      "source": [
        "ltup[1]"
      ],
      "execution_count": 51,
      "outputs": [
        {
          "output_type": "execute_result",
          "data": {
            "text/plain": [
              "2"
            ]
          },
          "metadata": {
            "tags": []
          },
          "execution_count": 51
        }
      ]
    },
    {
      "cell_type": "code",
      "metadata": {
        "id": "TjVYKlL591Vs",
        "colab_type": "code",
        "colab": {
          "base_uri": "https://localhost:8080/",
          "height": 35
        },
        "outputId": "dce7aa2f-3439-49de-fa2e-542799b06377"
      },
      "source": [
        "ltup[0]"
      ],
      "execution_count": 53,
      "outputs": [
        {
          "output_type": "execute_result",
          "data": {
            "text/plain": [
              "1"
            ]
          },
          "metadata": {
            "tags": []
          },
          "execution_count": 53
        }
      ]
    },
    {
      "cell_type": "code",
      "metadata": {
        "id": "8IIQE9b093Jd",
        "colab_type": "code",
        "colab": {
          "base_uri": "https://localhost:8080/",
          "height": 35
        },
        "outputId": "e0997949-6dbf-4ae2-b969-cd325f525472"
      },
      "source": [
        "ltup[0:2]"
      ],
      "execution_count": 61,
      "outputs": [
        {
          "output_type": "execute_result",
          "data": {
            "text/plain": [
              "(1, 2)"
            ]
          },
          "metadata": {
            "tags": []
          },
          "execution_count": 61
        }
      ]
    },
    {
      "cell_type": "code",
      "metadata": {
        "id": "mYW8_rAp9757",
        "colab_type": "code",
        "colab": {}
      },
      "source": [
        "llisst[0] = 'First Element'"
      ],
      "execution_count": 0,
      "outputs": []
    },
    {
      "cell_type": "code",
      "metadata": {
        "id": "vLnIOGO7-CoX",
        "colab_type": "code",
        "colab": {
          "base_uri": "https://localhost:8080/",
          "height": 35
        },
        "outputId": "a70ac1cd-f606-462a-f551-4db8ca7cc398"
      },
      "source": [
        "llisst"
      ],
      "execution_count": 58,
      "outputs": [
        {
          "output_type": "execute_result",
          "data": {
            "text/plain": [
              "['First Element', 2, 3]"
            ]
          },
          "metadata": {
            "tags": []
          },
          "execution_count": 58
        }
      ]
    },
    {
      "cell_type": "code",
      "metadata": {
        "id": "V-RaJOb1-GSs",
        "colab_type": "code",
        "colab": {
          "base_uri": "https://localhost:8080/",
          "height": 166
        },
        "outputId": "9216b4af-1c46-416a-f3b7-749c7a099889"
      },
      "source": [
        "ltup[0] = 'First Element'"
      ],
      "execution_count": 59,
      "outputs": [
        {
          "output_type": "error",
          "ename": "TypeError",
          "evalue": "ignored",
          "traceback": [
            "\u001b[0;31m---------------------------------------------------------------------------\u001b[0m",
            "\u001b[0;31mTypeError\u001b[0m                                 Traceback (most recent call last)",
            "\u001b[0;32m<ipython-input-59-a51b5114d4c1>\u001b[0m in \u001b[0;36m<module>\u001b[0;34m()\u001b[0m\n\u001b[0;32m----> 1\u001b[0;31m \u001b[0mltup\u001b[0m\u001b[0;34m[\u001b[0m\u001b[0;36m0\u001b[0m\u001b[0;34m]\u001b[0m \u001b[0;34m=\u001b[0m \u001b[0;34m'First Element'\u001b[0m\u001b[0;34m\u001b[0m\u001b[0;34m\u001b[0m\u001b[0m\n\u001b[0m",
            "\u001b[0;31mTypeError\u001b[0m: 'tuple' object does not support item assignment"
          ]
        }
      ]
    },
    {
      "cell_type": "markdown",
      "metadata": {
        "id": "kFTfXSrKA_pz",
        "colab_type": "text"
      },
      "source": [
        "### Copy in Python"
      ]
    },
    {
      "cell_type": "code",
      "metadata": {
        "id": "7YJFKIw7-MCc",
        "colab_type": "code",
        "colab": {}
      },
      "source": [
        "l1 = [1,3,4,1]\n",
        "l2 = l1 \n",
        "l1.append(0)"
      ],
      "execution_count": 0,
      "outputs": []
    },
    {
      "cell_type": "code",
      "metadata": {
        "id": "Pfy1Sv44_Pgz",
        "colab_type": "code",
        "colab": {
          "base_uri": "https://localhost:8080/",
          "height": 35
        },
        "outputId": "0cd341da-51e6-45b1-aa6f-bfc8facbb286"
      },
      "source": [
        "l2"
      ],
      "execution_count": 67,
      "outputs": [
        {
          "output_type": "execute_result",
          "data": {
            "text/plain": [
              "[1, 3, 4, 1, 0]"
            ]
          },
          "metadata": {
            "tags": []
          },
          "execution_count": 67
        }
      ]
    },
    {
      "cell_type": "code",
      "metadata": {
        "id": "TnFE2RDY_s0a",
        "colab_type": "code",
        "colab": {}
      },
      "source": [
        "l1 = [1,3,4,1]\n",
        "l2 = l1.copy() \n",
        "l1.append(0)"
      ],
      "execution_count": 0,
      "outputs": []
    },
    {
      "cell_type": "code",
      "metadata": {
        "id": "5M84Yp12AZ55",
        "colab_type": "code",
        "colab": {
          "base_uri": "https://localhost:8080/",
          "height": 35
        },
        "outputId": "cda2a949-2976-4cc3-b35d-7543bf59e548"
      },
      "source": [
        "l2"
      ],
      "execution_count": 69,
      "outputs": [
        {
          "output_type": "execute_result",
          "data": {
            "text/plain": [
              "[1, 3, 4, 1]"
            ]
          },
          "metadata": {
            "tags": []
          },
          "execution_count": 69
        }
      ]
    },
    {
      "cell_type": "code",
      "metadata": {
        "id": "aJ9PySfhAjUt",
        "colab_type": "code",
        "colab": {}
      },
      "source": [
        "d3 = d2.copy()\n",
        "d2['Ankesh'] = ''"
      ],
      "execution_count": 0,
      "outputs": []
    },
    {
      "cell_type": "code",
      "metadata": {
        "id": "DLHoRWeLAvhi",
        "colab_type": "code",
        "colab": {
          "base_uri": "https://localhost:8080/",
          "height": 121
        },
        "outputId": "5b5a2836-d4b6-4313-a485-384e1ab94db7"
      },
      "source": [
        "d2"
      ],
      "execution_count": 75,
      "outputs": [
        {
          "output_type": "execute_result",
          "data": {
            "text/plain": [
              "{12: {'Key1': 12, 'key2': 13},\n",
              " 'Ankesh': '',\n",
              " 'Gantavya': True,\n",
              " 'Jai': 12,\n",
              " 'Mahesh': 'Somestring',\n",
              " 'VB': [13, 14, 11, 21]}"
            ]
          },
          "metadata": {
            "tags": []
          },
          "execution_count": 75
        }
      ]
    },
    {
      "cell_type": "code",
      "metadata": {
        "id": "p1UTfbJwA0KX",
        "colab_type": "code",
        "colab": {
          "base_uri": "https://localhost:8080/",
          "height": 121
        },
        "outputId": "682f71c5-f147-4e51-fb3d-46ef4327e9a9"
      },
      "source": [
        "d3"
      ],
      "execution_count": 76,
      "outputs": [
        {
          "output_type": "execute_result",
          "data": {
            "text/plain": [
              "{12: {'Key1': 12, 'key2': 13},\n",
              " 'Ankesh': 'Some Value',\n",
              " 'Gantavya': True,\n",
              " 'Jai': 12,\n",
              " 'Mahesh': 'Somestring',\n",
              " 'VB': [13, 14, 11, 21]}"
            ]
          },
          "metadata": {
            "tags": []
          },
          "execution_count": 76
        }
      ]
    },
    {
      "cell_type": "code",
      "metadata": {
        "id": "w5opblnEA1Up",
        "colab_type": "code",
        "colab": {
          "base_uri": "https://localhost:8080/",
          "height": 35
        },
        "outputId": "3429b952-634f-491d-e1e4-9678dd254808"
      },
      "source": [
        "a = 5 \n",
        "b = a \n",
        "a = 6 \n",
        "b"
      ],
      "execution_count": 77,
      "outputs": [
        {
          "output_type": "execute_result",
          "data": {
            "text/plain": [
              "5"
            ]
          },
          "metadata": {
            "tags": []
          },
          "execution_count": 77
        }
      ]
    },
    {
      "cell_type": "code",
      "metadata": {
        "id": "FLSNJiFVBF9p",
        "colab_type": "code",
        "colab": {
          "base_uri": "https://localhost:8080/",
          "height": 35
        },
        "outputId": "1032bcf0-1703-42e5-a1db-10c2c86da73c"
      },
      "source": [
        "list(ltup)"
      ],
      "execution_count": 81,
      "outputs": [
        {
          "output_type": "execute_result",
          "data": {
            "text/plain": [
              "[1, 2, 3]"
            ]
          },
          "metadata": {
            "tags": []
          },
          "execution_count": 81
        }
      ]
    },
    {
      "cell_type": "code",
      "metadata": {
        "id": "YEVAfHTDB2LZ",
        "colab_type": "code",
        "colab": {
          "base_uri": "https://localhost:8080/",
          "height": 35
        },
        "outputId": "bca7f504-d8e3-41ab-ef4e-89a323b70c6a"
      },
      "source": [
        "tuple(llisst)"
      ],
      "execution_count": 82,
      "outputs": [
        {
          "output_type": "execute_result",
          "data": {
            "text/plain": [
              "('First Element', 2, 3)"
            ]
          },
          "metadata": {
            "tags": []
          },
          "execution_count": 82
        }
      ]
    },
    {
      "cell_type": "markdown",
      "metadata": {
        "id": "8PxfIVoaCahS",
        "colab_type": "text"
      },
      "source": [
        "### Conditional Statement"
      ]
    },
    {
      "cell_type": "code",
      "metadata": {
        "id": "_L7TlsUlCKH_",
        "colab_type": "code",
        "colab": {
          "base_uri": "https://localhost:8080/",
          "height": 35
        },
        "outputId": "4daec83d-eae9-4d55-d352-fdb414c4ab7c"
      },
      "source": [
        "a = 1\n",
        "if (a > 5) & (a <= 3) : \n",
        "  print(\"You are a liar\") \n",
        "elif (a > 3) | (a == 3):\n",
        "  print(\"A is 3\") \n",
        "else :\n",
        "  print(\"No output fetched\")"
      ],
      "execution_count": 89,
      "outputs": [
        {
          "output_type": "stream",
          "text": [
            "No output fetched\n"
          ],
          "name": "stdout"
        }
      ]
    },
    {
      "cell_type": "code",
      "metadata": {
        "id": "BqbbeuUGCgEY",
        "colab_type": "code",
        "colab": {
          "base_uri": "https://localhost:8080/",
          "height": 52
        },
        "outputId": "6a31fce9-e1b0-4080-ddbb-d41a8b8db473"
      },
      "source": [
        "age = 21\n",
        "salary = 20000\n",
        "\n",
        "##3 Condition \n",
        "if (age > 20) & (salary >= 20000) : \n",
        "  print(\"Good lad\")\n",
        "\n",
        "## Condition2 \n",
        "\n",
        "if (age == 21) & (salary == 20000) : \n",
        "  print(\"Welcome to Some company\")\n",
        "else :\n",
        "  print(\"No rules\")"
      ],
      "execution_count": 98,
      "outputs": [
        {
          "output_type": "stream",
          "text": [
            "Good lad\n",
            "Welcome to Some company\n"
          ],
          "name": "stdout"
        }
      ]
    },
    {
      "cell_type": "code",
      "metadata": {
        "id": "6Mn8IWGKDhtI",
        "colab_type": "code",
        "colab": {
          "base_uri": "https://localhost:8080/",
          "height": 52
        },
        "outputId": "925de1b8-bf91-44cb-d744-ee40610112fe"
      },
      "source": [
        "l1= [1,2,3]\n",
        "l2= [3,4,5]\n",
        "l2=l1\n",
        "l1=[1,2,3,0]\n",
        "print(l1[::1])\n",
        "print(l2[::1])"
      ],
      "execution_count": 102,
      "outputs": [
        {
          "output_type": "stream",
          "text": [
            "[1, 2, 3, 0]\n",
            "[1, 2, 3]\n"
          ],
          "name": "stdout"
        }
      ]
    },
    {
      "cell_type": "code",
      "metadata": {
        "id": "rrNNZa8ADzJD",
        "colab_type": "code",
        "colab": {
          "base_uri": "https://localhost:8080/",
          "height": 87
        },
        "outputId": "dddc0a6b-e2f3-4073-c175-233f7b2cfd60"
      },
      "source": [
        "for i in l1:\n",
        "  print(i)"
      ],
      "execution_count": 103,
      "outputs": [
        {
          "output_type": "stream",
          "text": [
            "1\n",
            "2\n",
            "3\n",
            "0\n"
          ],
          "name": "stdout"
        }
      ]
    },
    {
      "cell_type": "code",
      "metadata": {
        "id": "BtzTQ_CeJeXd",
        "colab_type": "code",
        "colab": {
          "base_uri": "https://localhost:8080/",
          "height": 87
        },
        "outputId": "a6480c6b-6f78-4df0-ed5c-9da1fde41fe3"
      },
      "source": [
        "for i in range(0 , len(l1)):\n",
        "  print(l1[i])"
      ],
      "execution_count": 105,
      "outputs": [
        {
          "output_type": "stream",
          "text": [
            "1\n",
            "2\n",
            "3\n",
            "0\n"
          ],
          "name": "stdout"
        }
      ]
    },
    {
      "cell_type": "code",
      "metadata": {
        "id": "ouCVCx-LLCV8",
        "colab_type": "code",
        "colab": {}
      },
      "source": [
        "listname = ['Ayushi','Suman','Mahesh','Gantavya']"
      ],
      "execution_count": 0,
      "outputs": []
    },
    {
      "cell_type": "code",
      "metadata": {
        "id": "5ixwF0oDLVfB",
        "colab_type": "code",
        "colab": {
          "base_uri": "https://localhost:8080/",
          "height": 35
        },
        "outputId": "f28d5223-e939-486a-e198-e9c993e8743e"
      },
      "source": [
        "list(range(0,4,2))"
      ],
      "execution_count": 114,
      "outputs": [
        {
          "output_type": "execute_result",
          "data": {
            "text/plain": [
              "[0, 2]"
            ]
          },
          "metadata": {
            "tags": []
          },
          "execution_count": 114
        }
      ]
    },
    {
      "cell_type": "code",
      "metadata": {
        "id": "pHbn5GE_KeIZ",
        "colab_type": "code",
        "colab": {
          "base_uri": "https://localhost:8080/",
          "height": 87
        },
        "outputId": "64b5b523-478a-48a4-9e42-6b3459bd2be2"
      },
      "source": [
        "for i in range(0,4,2):\n",
        "  print(i)\n",
        "  print(listname[i])"
      ],
      "execution_count": 115,
      "outputs": [
        {
          "output_type": "stream",
          "text": [
            "0\n",
            "Ayushi\n",
            "2\n",
            "Mahesh\n"
          ],
          "name": "stdout"
        }
      ]
    },
    {
      "cell_type": "code",
      "metadata": {
        "id": "TCFcZ07yK04z",
        "colab_type": "code",
        "colab": {
          "base_uri": "https://localhost:8080/",
          "height": 87
        },
        "outputId": "bec0396f-79bd-42c5-8494-37adb3a40808"
      },
      "source": [
        "for i in listname :\n",
        "  print(i)"
      ],
      "execution_count": 112,
      "outputs": [
        {
          "output_type": "stream",
          "text": [
            "Ayushi\n",
            "Suman\n",
            "Mahesh\n",
            "Gantavya\n"
          ],
          "name": "stdout"
        }
      ]
    },
    {
      "cell_type": "code",
      "metadata": {
        "id": "StKe18ffLhmC",
        "colab_type": "code",
        "colab": {
          "base_uri": "https://localhost:8080/",
          "height": 166
        },
        "outputId": "7b6832ef-5528-48f8-f355-60169c295c5f"
      },
      "source": [
        "listname['Ayushi']"
      ],
      "execution_count": 116,
      "outputs": [
        {
          "output_type": "error",
          "ename": "TypeError",
          "evalue": "ignored",
          "traceback": [
            "\u001b[0;31m---------------------------------------------------------------------------\u001b[0m",
            "\u001b[0;31mTypeError\u001b[0m                                 Traceback (most recent call last)",
            "\u001b[0;32m<ipython-input-116-df8189be7a2a>\u001b[0m in \u001b[0;36m<module>\u001b[0;34m()\u001b[0m\n\u001b[0;32m----> 1\u001b[0;31m \u001b[0mlistname\u001b[0m\u001b[0;34m[\u001b[0m\u001b[0;34m'Ayushi'\u001b[0m\u001b[0;34m]\u001b[0m\u001b[0;34m\u001b[0m\u001b[0;34m\u001b[0m\u001b[0m\n\u001b[0m",
            "\u001b[0;31mTypeError\u001b[0m: list indices must be integers or slices, not str"
          ]
        }
      ]
    },
    {
      "cell_type": "code",
      "metadata": {
        "id": "IRZYdV07MQYD",
        "colab_type": "code",
        "colab": {
          "base_uri": "https://localhost:8080/",
          "height": 121
        },
        "outputId": "5a9fb50d-28ef-4cfa-9419-25f3cd1e2d20"
      },
      "source": [
        "for i in range(0,6):\n",
        "  print(i)"
      ],
      "execution_count": 117,
      "outputs": [
        {
          "output_type": "stream",
          "text": [
            "0\n",
            "1\n",
            "2\n",
            "3\n",
            "4\n",
            "5\n"
          ],
          "name": "stdout"
        }
      ]
    },
    {
      "cell_type": "code",
      "metadata": {
        "id": "yfiixeavMmG_",
        "colab_type": "code",
        "colab": {
          "base_uri": "https://localhost:8080/",
          "height": 156
        },
        "outputId": "153dffd5-3cfd-4963-c7ef-d0925b7984c0"
      },
      "source": [
        "for i in range(0,4):\n",
        "  print(i)\n",
        "  print(listname[i])"
      ],
      "execution_count": 120,
      "outputs": [
        {
          "output_type": "stream",
          "text": [
            "0\n",
            "Ayushi\n",
            "1\n",
            "Suman\n",
            "2\n",
            "Mahesh\n",
            "3\n",
            "Gantavya\n"
          ],
          "name": "stdout"
        }
      ]
    },
    {
      "cell_type": "code",
      "metadata": {
        "id": "7GKmMFF4NHvF",
        "colab_type": "code",
        "colab": {
          "base_uri": "https://localhost:8080/",
          "height": 87
        },
        "outputId": "9111d13a-e7cb-48d6-c0f9-ffd293681535"
      },
      "source": [
        "for i in listname : \n",
        "  print(i)"
      ],
      "execution_count": 119,
      "outputs": [
        {
          "output_type": "stream",
          "text": [
            "Ayushi\n",
            "Suman\n",
            "Mahesh\n",
            "Gantavya\n"
          ],
          "name": "stdout"
        }
      ]
    },
    {
      "cell_type": "code",
      "metadata": {
        "id": "y66ddspzNL1B",
        "colab_type": "code",
        "colab": {}
      },
      "source": [
        "listname.remove('Mahesh')"
      ],
      "execution_count": 0,
      "outputs": []
    },
    {
      "cell_type": "code",
      "metadata": {
        "id": "T38zQUWHNaOx",
        "colab_type": "code",
        "colab": {}
      },
      "source": [
        "listname.append('Ayushi')"
      ],
      "execution_count": 0,
      "outputs": []
    },
    {
      "cell_type": "code",
      "metadata": {
        "id": "NPNTKoDrNdFx",
        "colab_type": "code",
        "colab": {
          "base_uri": "https://localhost:8080/",
          "height": 35
        },
        "outputId": "56aca88b-6a83-4f6e-c561-3da75f6bedf9"
      },
      "source": [
        "listname"
      ],
      "execution_count": 125,
      "outputs": [
        {
          "output_type": "execute_result",
          "data": {
            "text/plain": [
              "['Ayushi', 'Suman', 'Gantavya', 'Ayushi']"
            ]
          },
          "metadata": {
            "tags": []
          },
          "execution_count": 125
        }
      ]
    },
    {
      "cell_type": "code",
      "metadata": {
        "id": "D8Gs3xpoOlAs",
        "colab_type": "code",
        "colab": {}
      },
      "source": [
        "listname1 = ['Ayushi','Shreyas','Ankesh']"
      ],
      "execution_count": 0,
      "outputs": []
    },
    {
      "cell_type": "code",
      "metadata": {
        "id": "WdCf0WQsNjFl",
        "colab_type": "code",
        "colab": {
          "base_uri": "https://localhost:8080/",
          "height": 35
        },
        "outputId": "c1f6c390-b47c-4820-e6d2-f1b1da01d4dd"
      },
      "source": [
        "set(listname) & set(listname1)"
      ],
      "execution_count": 132,
      "outputs": [
        {
          "output_type": "execute_result",
          "data": {
            "text/plain": [
              "{'Ayushi'}"
            ]
          },
          "metadata": {
            "tags": []
          },
          "execution_count": 132
        }
      ]
    },
    {
      "cell_type": "code",
      "metadata": {
        "id": "JJ3dn3bdPEYH",
        "colab_type": "code",
        "colab": {
          "base_uri": "https://localhost:8080/",
          "height": 35
        },
        "outputId": "e1e6a583-c12e-4aab-f08f-b12b93860871"
      },
      "source": [
        "list(set(listname) | set(listname1))"
      ],
      "execution_count": 136,
      "outputs": [
        {
          "output_type": "execute_result",
          "data": {
            "text/plain": [
              "['Shreyas', 'Suman', 'Gantavya', 'Ayushi', 'Ankesh']"
            ]
          },
          "metadata": {
            "tags": []
          },
          "execution_count": 136
        }
      ]
    },
    {
      "cell_type": "code",
      "metadata": {
        "id": "GKt9Ixa4OMa2",
        "colab_type": "code",
        "colab": {}
      },
      "source": [
        "l1 = [1,2,3]\n",
        "l2 = [3,4,5]\n",
        "### Every Element of L2 needs to be multipled with L1 , Save that output to L3 \n",
        "l3 = []\n",
        "for i in l1 :\n",
        "  counter = 0\n",
        "  for j in l2:\n",
        "    counter += i*j \n",
        "  l3.append(counter)  \n"
      ],
      "execution_count": 0,
      "outputs": []
    },
    {
      "cell_type": "code",
      "metadata": {
        "id": "xj2_Syx1Obcp",
        "colab_type": "code",
        "colab": {}
      },
      "source": [
        "s1 = 'Shreyas'"
      ],
      "execution_count": 0,
      "outputs": []
    },
    {
      "cell_type": "code",
      "metadata": {
        "id": "ARfZ4DlNQ9Co",
        "colab_type": "code",
        "colab": {
          "base_uri": "https://localhost:8080/",
          "height": 35
        },
        "outputId": "f8dff006-7ad3-4e3f-bcb7-9ed9c0d30dfc"
      },
      "source": [
        "s1.lower()"
      ],
      "execution_count": 142,
      "outputs": [
        {
          "output_type": "execute_result",
          "data": {
            "text/plain": [
              "'shreyas'"
            ]
          },
          "metadata": {
            "tags": []
          },
          "execution_count": 142
        }
      ]
    },
    {
      "cell_type": "code",
      "metadata": {
        "id": "7B4I3zz4R__Q",
        "colab_type": "code",
        "colab": {
          "base_uri": "https://localhost:8080/",
          "height": 35
        },
        "outputId": "cedc05e7-031f-4221-eb2b-8adcb5c3df0a"
      },
      "source": [
        "s2 = 'Raghavan'\n",
        "s2.upper()"
      ],
      "execution_count": 143,
      "outputs": [
        {
          "output_type": "execute_result",
          "data": {
            "text/plain": [
              "'RAGHAVAN'"
            ]
          },
          "metadata": {
            "tags": []
          },
          "execution_count": 143
        }
      ]
    },
    {
      "cell_type": "code",
      "metadata": {
        "id": "mB3imRoaSEZR",
        "colab_type": "code",
        "colab": {
          "base_uri": "https://localhost:8080/",
          "height": 35
        },
        "outputId": "e48ba2de-2e5c-42e4-d0ab-6b0a088c4f78"
      },
      "source": [
        "s1.swapcase()"
      ],
      "execution_count": 144,
      "outputs": [
        {
          "output_type": "execute_result",
          "data": {
            "text/plain": [
              "'sHREYAS'"
            ]
          },
          "metadata": {
            "tags": []
          },
          "execution_count": 144
        }
      ]
    },
    {
      "cell_type": "code",
      "metadata": {
        "id": "38glB4hPSdPa",
        "colab_type": "code",
        "colab": {}
      },
      "source": [
        ""
      ],
      "execution_count": 0,
      "outputs": []
    }
  ]
}