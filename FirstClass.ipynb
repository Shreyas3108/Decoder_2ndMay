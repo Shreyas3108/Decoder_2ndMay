{
  "nbformat": 4,
  "nbformat_minor": 0,
  "metadata": {
    "colab": {
      "name": "Untitled15.ipynb",
      "provenance": [],
      "authorship_tag": "ABX9TyOmmak1B6JtLtzWJY78aFEK",
      "include_colab_link": true
    },
    "kernelspec": {
      "name": "python3",
      "display_name": "Python 3"
    }
  },
  "cells": [
    {
      "cell_type": "markdown",
      "metadata": {
        "id": "view-in-github",
        "colab_type": "text"
      },
      "source": [
        "<a href=\"https://colab.research.google.com/github/Shreyas3108/Decoder_2ndMay/blob/master/FirstClass.ipynb\" target=\"_parent\"><img src=\"https://colab.research.google.com/assets/colab-badge.svg\" alt=\"Open In Colab\"/></a>"
      ]
    },
    {
      "cell_type": "markdown",
      "metadata": {
        "id": "p4ebOGUb0py6",
        "colab_type": "text"
      },
      "source": [
        "## Decodr 02 May 2020 \n",
        "\n",
        "This is a demo notebook for the weekend batch"
      ]
    },
    {
      "cell_type": "markdown",
      "metadata": {
        "id": "8nEcQwVR9ttG",
        "colab_type": "text"
      },
      "source": [
        "### Python \n",
        "\n",
        "1. It handles the data types\n",
        "2. Variable initialization, Does not really need a type specification "
      ]
    },
    {
      "cell_type": "code",
      "metadata": {
        "id": "23WXHb_W9s7W",
        "colab_type": "code",
        "colab": {}
      },
      "source": [
        "a = 5"
      ],
      "execution_count": 0,
      "outputs": []
    },
    {
      "cell_type": "code",
      "metadata": {
        "id": "M5Zv1QNfzdn4",
        "colab_type": "code",
        "colab": {
          "base_uri": "https://localhost:8080/",
          "height": 35
        },
        "outputId": "8da8da5e-b099-4d33-fbdb-a80aa0866754"
      },
      "source": [
        "type(a)"
      ],
      "execution_count": 6,
      "outputs": [
        {
          "output_type": "execute_result",
          "data": {
            "text/plain": [
              "int"
            ]
          },
          "metadata": {
            "tags": []
          },
          "execution_count": 6
        }
      ]
    },
    {
      "cell_type": "code",
      "metadata": {
        "id": "DuJei_dG9qv-",
        "colab_type": "code",
        "colab": {
          "base_uri": "https://localhost:8080/",
          "height": 35
        },
        "outputId": "e9e2d580-977c-4357-f7bf-dd81339cbeb3"
      },
      "source": [
        "b = 5.0 \n",
        "type(b)"
      ],
      "execution_count": 7,
      "outputs": [
        {
          "output_type": "execute_result",
          "data": {
            "text/plain": [
              "float"
            ]
          },
          "metadata": {
            "tags": []
          },
          "execution_count": 7
        }
      ]
    },
    {
      "cell_type": "code",
      "metadata": {
        "id": "9WRiX8O_963i",
        "colab_type": "code",
        "colab": {
          "base_uri": "https://localhost:8080/",
          "height": 35
        },
        "outputId": "7f0db8af-5a1e-4339-b641-710851c18d29"
      },
      "source": [
        "c = 'a'\n",
        "type(c)"
      ],
      "execution_count": 8,
      "outputs": [
        {
          "output_type": "execute_result",
          "data": {
            "text/plain": [
              "str"
            ]
          },
          "metadata": {
            "tags": []
          },
          "execution_count": 8
        }
      ]
    },
    {
      "cell_type": "code",
      "metadata": {
        "id": "jJzubzMn-D18",
        "colab_type": "code",
        "colab": {
          "base_uri": "https://localhost:8080/",
          "height": 35
        },
        "outputId": "c91fc92d-ec16-4096-a7e7-d5feda8f0b7c"
      },
      "source": [
        "a = True \n",
        "type(a)"
      ],
      "execution_count": 9,
      "outputs": [
        {
          "output_type": "execute_result",
          "data": {
            "text/plain": [
              "bool"
            ]
          },
          "metadata": {
            "tags": []
          },
          "execution_count": 9
        }
      ]
    },
    {
      "cell_type": "code",
      "metadata": {
        "id": "bPyyBlFk-GXo",
        "colab_type": "code",
        "colab": {
          "base_uri": "https://localhost:8080/",
          "height": 35
        },
        "outputId": "e4e6c09a-04ee-43be-a47b-f7769d309d20"
      },
      "source": [
        "a = 'True'\n",
        "type(a)"
      ],
      "execution_count": 10,
      "outputs": [
        {
          "output_type": "execute_result",
          "data": {
            "text/plain": [
              "str"
            ]
          },
          "metadata": {
            "tags": []
          },
          "execution_count": 10
        }
      ]
    },
    {
      "cell_type": "code",
      "metadata": {
        "id": "6yNSqesF-TB7",
        "colab_type": "code",
        "colab": {
          "base_uri": "https://localhost:8080/",
          "height": 35
        },
        "outputId": "a117d992-7f2f-497b-8e9e-5d6ac98a1642"
      },
      "source": [
        "a = 12\n",
        "b = 6.0\n",
        "c = a + b\n",
        "type(c)"
      ],
      "execution_count": 15,
      "outputs": [
        {
          "output_type": "execute_result",
          "data": {
            "text/plain": [
              "float"
            ]
          },
          "metadata": {
            "tags": []
          },
          "execution_count": 15
        }
      ]
    },
    {
      "cell_type": "code",
      "metadata": {
        "id": "MWRpG7Mx-g_2",
        "colab_type": "code",
        "colab": {
          "base_uri": "https://localhost:8080/",
          "height": 52
        },
        "outputId": "e59876b0-10a9-41ba-d6a7-6d77f874a40a"
      },
      "source": [
        "name = int(input('Enter the Name of the person'))\n",
        "name1 = input(\"Enter something \")"
      ],
      "execution_count": 23,
      "outputs": [
        {
          "output_type": "stream",
          "text": [
            "Enter the Name of the person2\n",
            "Enter something 2\n"
          ],
          "name": "stdout"
        }
      ]
    },
    {
      "cell_type": "code",
      "metadata": {
        "id": "R77AFXeM_GAd",
        "colab_type": "code",
        "colab": {
          "base_uri": "https://localhost:8080/",
          "height": 35
        },
        "outputId": "c78b3826-a143-425a-995d-8d87a8bf2871"
      },
      "source": [
        "name"
      ],
      "execution_count": 24,
      "outputs": [
        {
          "output_type": "execute_result",
          "data": {
            "text/plain": [
              "2"
            ]
          },
          "metadata": {
            "tags": []
          },
          "execution_count": 24
        }
      ]
    },
    {
      "cell_type": "code",
      "metadata": {
        "id": "ZBKHpiFM_hkn",
        "colab_type": "code",
        "colab": {
          "base_uri": "https://localhost:8080/",
          "height": 35
        },
        "outputId": "b7f7152d-9a14-49f9-dfff-fd8aa5ae5e62"
      },
      "source": [
        "name1"
      ],
      "execution_count": 25,
      "outputs": [
        {
          "output_type": "execute_result",
          "data": {
            "text/plain": [
              "'2'"
            ]
          },
          "metadata": {
            "tags": []
          },
          "execution_count": 25
        }
      ]
    },
    {
      "cell_type": "markdown",
      "metadata": {
        "id": "9iUU4WJZ1Efi",
        "colab_type": "text"
      },
      "source": [
        "Basic Operations in Python"
      ]
    },
    {
      "cell_type": "code",
      "metadata": {
        "id": "qs8NpcJk1EIh",
        "colab_type": "code",
        "colab": {}
      },
      "source": [
        "a = 3+5 \n",
        "b = 7-4.0 \n",
        "c = 3/4 \n",
        "d = 3*2\n",
        "e = 5**3 ## 5^2 ^ == ** "
      ],
      "execution_count": 0,
      "outputs": []
    },
    {
      "cell_type": "code",
      "metadata": {
        "id": "Ae1zWDyI0n_S",
        "colab_type": "code",
        "colab": {
          "base_uri": "https://localhost:8080/",
          "height": 35
        },
        "outputId": "bfebe0c3-bf7d-4f63-f3a0-e88395a801ab"
      },
      "source": [
        "if (a > 5):\n",
        "  print(\"From Bool , We got the output\")"
      ],
      "execution_count": 33,
      "outputs": [
        {
          "output_type": "stream",
          "text": [
            "From Bool , We got the output\n"
          ],
          "name": "stdout"
        }
      ]
    },
    {
      "cell_type": "markdown",
      "metadata": {
        "id": "mAkq9yrrBV0d",
        "colab_type": "text"
      },
      "source": [
        "Advantages of List over an Array : \n",
        "\n",
        "1. List is not type specific , can hold different data types \n",
        "2. Easier to extract elements \n",
        "3. No need to specify the size of the list , as you do in an array. "
      ]
    },
    {
      "cell_type": "code",
      "metadata": {
        "id": "ZcYjT1PtBVdZ",
        "colab_type": "code",
        "colab": {}
      },
      "source": [
        "b = ['1',1,1.0 , True , 'Last Element']"
      ],
      "execution_count": 0,
      "outputs": []
    },
    {
      "cell_type": "code",
      "metadata": {
        "id": "XSRrijS5AXzR",
        "colab_type": "code",
        "colab": {
          "base_uri": "https://localhost:8080/",
          "height": 35
        },
        "outputId": "d0cdbe9b-7b9c-4029-d807-11d095943ba0"
      },
      "source": [
        "b[0]"
      ],
      "execution_count": 39,
      "outputs": [
        {
          "output_type": "execute_result",
          "data": {
            "text/plain": [
              "'1'"
            ]
          },
          "metadata": {
            "tags": []
          },
          "execution_count": 39
        }
      ]
    },
    {
      "cell_type": "code",
      "metadata": {
        "id": "AGbmjJ2qAtB-",
        "colab_type": "code",
        "colab": {
          "base_uri": "https://localhost:8080/",
          "height": 35
        },
        "outputId": "e90bdb7f-2617-4c19-a4c0-8b0afbb29f06"
      },
      "source": [
        "b[:3] # 0 ,1 ,2 "
      ],
      "execution_count": 41,
      "outputs": [
        {
          "output_type": "execute_result",
          "data": {
            "text/plain": [
              "['1', 1, 1.0]"
            ]
          },
          "metadata": {
            "tags": []
          },
          "execution_count": 41
        }
      ]
    },
    {
      "cell_type": "code",
      "metadata": {
        "id": "CMon1ZPcBK-I",
        "colab_type": "code",
        "colab": {
          "base_uri": "https://localhost:8080/",
          "height": 35
        },
        "outputId": "63991ffe-1420-4b71-c06f-10e0680763d0"
      },
      "source": [
        "b[-3]"
      ],
      "execution_count": 47,
      "outputs": [
        {
          "output_type": "execute_result",
          "data": {
            "text/plain": [
              "1.0"
            ]
          },
          "metadata": {
            "tags": []
          },
          "execution_count": 47
        }
      ]
    },
    {
      "cell_type": "markdown",
      "metadata": {
        "id": "wA5dMR-PD1PD",
        "colab_type": "text"
      },
      "source": [
        "list = l \n",
        "\n",
        "l[Start : End : Step] \n",
        "l[0:n+1: 1] "
      ]
    },
    {
      "cell_type": "code",
      "metadata": {
        "id": "pDCb7DDhC0Be",
        "colab_type": "code",
        "colab": {}
      },
      "source": [
        "b = [1,2,3,4,5,6]"
      ],
      "execution_count": 0,
      "outputs": []
    },
    {
      "cell_type": "code",
      "metadata": {
        "id": "GqhcQRZlDPCg",
        "colab_type": "code",
        "colab": {
          "base_uri": "https://localhost:8080/",
          "height": 35
        },
        "outputId": "d3cc026d-7bdb-47ab-be6b-59f19fa5c59f"
      },
      "source": [
        "b[::1]"
      ],
      "execution_count": 55,
      "outputs": [
        {
          "output_type": "execute_result",
          "data": {
            "text/plain": [
              "[1, 2, 3, 4, 5, 6]"
            ]
          },
          "metadata": {
            "tags": []
          },
          "execution_count": 55
        }
      ]
    },
    {
      "cell_type": "code",
      "metadata": {
        "id": "-zPmdftDEJ7T",
        "colab_type": "code",
        "colab": {
          "base_uri": "https://localhost:8080/",
          "height": 35
        },
        "outputId": "ff2611c2-9cde-49a5-f861-9d1c901bc32e"
      },
      "source": [
        "b[::2]"
      ],
      "execution_count": 56,
      "outputs": [
        {
          "output_type": "execute_result",
          "data": {
            "text/plain": [
              "[1, 3, 5]"
            ]
          },
          "metadata": {
            "tags": []
          },
          "execution_count": 56
        }
      ]
    },
    {
      "cell_type": "code",
      "metadata": {
        "id": "ZmKvCmSvEWLf",
        "colab_type": "code",
        "colab": {
          "base_uri": "https://localhost:8080/",
          "height": 35
        },
        "outputId": "d4d4f2bc-cded-4078-a172-0b2499ffd536"
      },
      "source": [
        "b[1:4:2]"
      ],
      "execution_count": 58,
      "outputs": [
        {
          "output_type": "execute_result",
          "data": {
            "text/plain": [
              "[2, 4]"
            ]
          },
          "metadata": {
            "tags": []
          },
          "execution_count": 58
        }
      ]
    },
    {
      "cell_type": "code",
      "metadata": {
        "id": "to3KjSWnEdQS",
        "colab_type": "code",
        "colab": {}
      },
      "source": [
        ""
      ],
      "execution_count": 0,
      "outputs": []
    }
  ]
}