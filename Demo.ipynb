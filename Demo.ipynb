{
  "nbformat": 4,
  "nbformat_minor": 0,
  "metadata": {
    "colab": {
      "name": "Untitled15.ipynb",
      "provenance": [],
      "authorship_tag": "ABX9TyMPTpdulpCnIIkbaQrb6Yl5",
      "include_colab_link": true
    },
    "kernelspec": {
      "name": "python3",
      "display_name": "Python 3"
    }
  },
  "cells": [
    {
      "cell_type": "markdown",
      "metadata": {
        "id": "view-in-github",
        "colab_type": "text"
      },
      "source": [
        "<a href=\"https://colab.research.google.com/github/Shreyas3108/Decoder_2ndMay/blob/master/Demo.ipynb\" target=\"_parent\"><img src=\"https://colab.research.google.com/assets/colab-badge.svg\" alt=\"Open In Colab\"/></a>"
      ]
    },
    {
      "cell_type": "markdown",
      "metadata": {
        "id": "p4ebOGUb0py6",
        "colab_type": "text"
      },
      "source": [
        "## Decodr 02 May 2020 \n",
        "\n",
        "This is a demo notebook for the weekend batch"
      ]
    },
    {
      "cell_type": "code",
      "metadata": {
        "id": "M5Zv1QNfzdn4",
        "colab_type": "code",
        "colab": {
          "base_uri": "https://localhost:8080/",
          "height": 35
        },
        "outputId": "45a7f2cc-e727-4fad-8c62-3534cca8c954"
      },
      "source": [
        "1+1"
      ],
      "execution_count": 1,
      "outputs": [
        {
          "output_type": "execute_result",
          "data": {
            "text/plain": [
              "2"
            ]
          },
          "metadata": {
            "tags": []
          },
          "execution_count": 1
        }
      ]
    },
    {
      "cell_type": "markdown",
      "metadata": {
        "id": "9iUU4WJZ1Efi",
        "colab_type": "text"
      },
      "source": [
        "# Heading \n",
        "## Heading 1 \n",
        "### Heading 2 \n",
        "\n",
        "Today's class is about basic Python. We are discussing about **basics for Python** \n",
        "\n",
        "Markdown is similar HTML "
      ]
    },
    {
      "cell_type": "code",
      "metadata": {
        "id": "qs8NpcJk1EIh",
        "colab_type": "code",
        "colab": {}
      },
      "source": [
        ""
      ],
      "execution_count": 0,
      "outputs": []
    },
    {
      "cell_type": "code",
      "metadata": {
        "id": "Ae1zWDyI0n_S",
        "colab_type": "code",
        "colab": {}
      },
      "source": [
        ""
      ],
      "execution_count": 0,
      "outputs": []
    }
  ]
}